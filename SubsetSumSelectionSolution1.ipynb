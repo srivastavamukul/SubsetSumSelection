{
 "cells": [
  {
   "cell_type": "markdown",
   "id": "e3a56103",
   "metadata": {},
   "source": [
    "\n",
    "1. Problem Statement:\n",
    "Find all the subsets from a set of numbers whose sum is zero.\n",
    "\n",
    "Constraint: Subset size must be 5\n",
    "Set={-12, -3, -6, 7, 2, -2, 6, 3, 9, -7, -5, -8, 1, 11, -9, -4}"
   ]
  },
  {
   "cell_type": "code",
   "execution_count": 1,
   "id": "1b4212e4",
   "metadata": {},
   "outputs": [],
   "source": [
    "import random as random "
   ]
  },
  {
   "cell_type": "code",
   "execution_count": 2,
   "id": "d6a65d3a",
   "metadata": {},
   "outputs": [],
   "source": [
    "sets = {-12, -3, -6, 7, 2, -2, 6, 3, 9, -7, -5, -8, 1, 11, -9, -4}\n",
    "subsetSize = 5\n",
    "maxIter = 10000\n",
    "solutionList = []"
   ]
  },
  {
   "cell_type": "code",
   "execution_count": 3,
   "id": "6161c5de",
   "metadata": {},
   "outputs": [],
   "source": [
    "for i in range(1, maxIter):\n",
    "    randomSubset = random.sample(list(sets), subsetSize)\n",
    "    if sum(randomSubset) == 0:\n",
    "        solutionList.append(randomSubset)\n",
    "\n",
    "solutionSet = set(tuple(sorted(subset)) for subset in solutionList)"
   ]
  }
 ],
 "metadata": {
  "kernelspec": {
   "display_name": "mlworkshop",
   "language": "python",
   "name": "python3"
  },
  "language_info": {
   "codemirror_mode": {
    "name": "ipython",
    "version": 3
   },
   "file_extension": ".py",
   "mimetype": "text/x-python",
   "name": "python",
   "nbconvert_exporter": "python",
   "pygments_lexer": "ipython3",
   "version": "3.12.11"
  }
 },
 "nbformat": 4,
 "nbformat_minor": 5
}
