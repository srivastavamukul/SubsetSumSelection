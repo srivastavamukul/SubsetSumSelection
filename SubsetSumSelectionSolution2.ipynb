{
 "cells": [
  {
   "cell_type": "markdown",
   "id": "aaf25b46",
   "metadata": {},
   "source": [
    "2. Problem Statement:\n",
    "Find all the subsets from a set of numbers whose sum is zero.\n",
    "\n",
    "Constraint: Subset size must be 3 to 6 only\n",
    "Set={-12, -3, -6, 7, 2, -2, 6, 3, 9, -7, -5, -8, 1, 11, -9, -4}"
   ]
  },
  {
   "cell_type": "code",
   "execution_count": 1,
   "id": "02f7ec40",
   "metadata": {},
   "outputs": [],
   "source": [
    "import random as random"
   ]
  },
  {
   "cell_type": "code",
   "execution_count": 2,
   "id": "1b59d4bc",
   "metadata": {},
   "outputs": [],
   "source": [
    "sets = {-12, -3, -6, 7, 2, -2, 6, 3, 9, -7, -5, -8, 1, 11, -9, -4}\n",
    "\n",
    "min = 3\n",
    "max = 6\n",
    "\n",
    "solutionList = []\n",
    "maxIter = 1000"
   ]
  },
  {
   "cell_type": "code",
   "execution_count": 3,
   "id": "a645b5c7",
   "metadata": {},
   "outputs": [],
   "source": [
    "for i in range(0, maxIter):\n",
    "    randomSize = random.randint(min, max)\n",
    "\n",
    "    randomSet = random.sample(list(sets), randomSize)\n",
    "\n",
    "    if sum(randomSet) == 0:\n",
    "        solutionList.append(set(randomSet))\n",
    "\n",
    "solutionSet = set(tuple(sorted(subset)) for subset in solutionList)"
   ]
  }
 ],
 "metadata": {
  "kernelspec": {
   "display_name": "mlworkshop",
   "language": "python",
   "name": "python3"
  },
  "language_info": {
   "codemirror_mode": {
    "name": "ipython",
    "version": 3
   },
   "file_extension": ".py",
   "mimetype": "text/x-python",
   "name": "python",
   "nbconvert_exporter": "python",
   "pygments_lexer": "ipython3",
   "version": "3.12.11"
  }
 },
 "nbformat": 4,
 "nbformat_minor": 5
}
